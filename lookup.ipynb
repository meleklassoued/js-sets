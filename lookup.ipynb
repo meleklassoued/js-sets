{
 "cells": [
  {
   "cell_type": "code",
   "execution_count": 3,
   "metadata": {},
   "outputs": [
    {
     "name": "stdout",
     "output_type": "stream",
     "text": [
      "4\n"
     ]
    },
    {
     "ename": "",
     "evalue": "",
     "output_type": "error",
     "traceback": [
      "\u001b[1;31mThe Kernel crashed while executing code in the current cell or a previous cell. \n",
      "\u001b[1;31mPlease review the code in the cell(s) to identify a possible cause of the failure. \n",
      "\u001b[1;31mClick <a href='https://aka.ms/vscodeJupyterKernelCrash'>here</a> for more info. \n",
      "\u001b[1;31mView Jupyter <a href='command:jupyter.viewOutput'>log</a> for further details."
     ]
    }
   ],
   "source": [
    "const set1= new Set([10,20,50,60,60]);\n",
    "\n",
    "console.log(set1.size) "
   ]
  },
  {
   "cell_type": "code",
   "execution_count": 1,
   "metadata": {},
   "outputs": [
    {
     "name": "stdout",
     "output_type": "stream",
     "text": [
      "10 true\n",
      "20 true\n",
      "30 false\n"
     ]
    },
    {
     "ename": "",
     "evalue": "",
     "output_type": "error",
     "traceback": [
      "\u001b[1;31mThe Kernel crashed while executing code in the current cell or a previous cell. \n",
      "\u001b[1;31mPlease review the code in the cell(s) to identify a possible cause of the failure. \n",
      "\u001b[1;31mClick <a href='https://aka.ms/vscodeJupyterKernelCrash'>here</a> for more info. \n",
      "\u001b[1;31mView Jupyter <a href='command:jupyter.viewOutput'>log</a> for further details."
     ]
    }
   ],
   "source": [
    "const set2=new Set([10,20,50,60,60])\n",
    "console.log(\"10\",set2.has(10));\n",
    "console.log(\"20\",set2.has(20));\n",
    "console.log(\"30\",set2.has(30));\n"
   ]
  },
  {
   "cell_type": "code",
   "execution_count": 4,
   "metadata": {},
   "outputs": [
    {
     "name": "stdout",
     "output_type": "stream",
     "text": [
      "entries [Set Entries] {\n",
      "  [ \"jane\", \"jane\" ],\n",
      "  [ \"John\", \"John\" ],\n",
      "  [ \"Jim\", \"Jim\" ],\n",
      "  [ \"jill\", \"jill\" ]\n",
      "}\n",
      "Keys [Set Iterator] { \"jane\", \"John\", \"Jim\", \"jill\" }\n",
      "Values [Set Iterator] { \"jane\", \"John\", \"Jim\", \"jill\" }\n",
      "jane yo\n",
      "John yo\n",
      "Jim yo\n",
      "jill yo\n"
     ]
    }
   ],
   "source": [
    "// Sets also supports some standard JS accessors(key,entries& values)\n",
    "const set3 = new Set([\"jane\",\"John\",\"Jim\",\"jill\"]);\n",
    "console.log(\"entries\",set3.entries());\n",
    "console.log(\"Keys\",set3.keys())\n",
    "console.log(\"Values\",set3.values())\n",
    "// we can also iterate over a set :\n",
    "set3.forEach(element => {\n",
    " console.log(element,\"yo\")\n",
    "});"
   ]
  }
 ],
 "metadata": {
  "kernelspec": {
   "display_name": "Deno",
   "language": "typescript",
   "name": "deno"
  },
  "language_info": {
   "codemirror_mode": "typescript",
   "file_extension": ".ts",
   "mimetype": "text/x.typescript",
   "name": "typescript",
   "nbconvert_exporter": "script",
   "pygments_lexer": "typescript",
   "version": "5.6.2"
  }
 },
 "nbformat": 4,
 "nbformat_minor": 2
}
