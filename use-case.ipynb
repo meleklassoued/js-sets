{
 "cells": [
  {
   "cell_type": "code",
   "execution_count": 18,
   "metadata": {},
   "outputs": [
    {
     "name": "stdout",
     "output_type": "stream",
     "text": [
      "Observer 1: 20\n",
      "Observer 2: 20\n",
      "Observer 2: 30\n"
     ]
    },
    {
     "data": {
      "text/plain": [
       "\u001b[33m30\u001b[39m"
      ]
     },
     "execution_count": 18,
     "metadata": {},
     "output_type": "execute_result"
    }
   ],
   "source": [
    "function createObservable<T>(value: T) {\n",
    "  let _value = value;\n",
    "  const observers = new Set<(value: T) => void>();\n",
    "  return {\n",
    "    get value() {\n",
    "      return _value;  \n",
    "    },\n",
    "    set value(newValue: T) {\n",
    "      _value = newValue;\n",
    "      observers.forEach(observer => observer(newValue));\n",
    "    },\n",
    "    subscribe(observer: (value: T) => void) {\n",
    "      observers.add(observer);\n",
    "    },\n",
    "    unsubscribe(observer: (value: T) => void) {\n",
    "      observers.delete(observer);\n",
    "    }\n",
    "  }\n",
    "}\n",
    "\n",
    "const observer1 = (value: number) => console.log(`Observer 1: ${value}`);\n",
    "const observer2 = (value: number) => console.log(`Observer 2: ${value}`);\n",
    "\n",
    "const observable = createObservable(10);\n",
    "observable.subscribe(observer1);\n",
    "observable.subscribe(observer2);\n",
    "observable.value = 20;\n",
    "observable.unsubscribe(observer1);\n",
    "observable.value = 30;\n"
   ]
  }
 ],
 "metadata": {
  "kernelspec": {
   "display_name": "Deno",
   "language": "typescript",
   "name": "deno"
  },
  "language_info": {
   "codemirror_mode": "typescript",
   "file_extension": ".ts",
   "mimetype": "text/x.typescript",
   "name": "typescript",
   "nbconvert_exporter": "script",
   "pygments_lexer": "typescript",
   "version": "5.6.2"
  }
 },
 "nbformat": 4,
 "nbformat_minor": 2
}
