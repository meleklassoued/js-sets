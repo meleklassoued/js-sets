{
 "cells": [
  {
   "cell_type": "code",
   "execution_count": 17,
   "metadata": {},
   "outputs": [
    {
     "name": "stdout",
     "output_type": "stream",
     "text": [
      "union Set(6) { 10, 20, 30, 40, 57, 8 }\n",
      "Intersection Set(4) { 10, 20, 30, 40 }\n",
      "Difference Set(2) { 57, 8 }\n",
      "difference Set(2) { 57, 8 }\n"
     ]
    }
   ],
   "source": [
    "const setA=new Set([10,20,30,40])\n",
    "const setB=new Set([10,20,30,40,57,40,40,8])\n",
    "\n",
    "\n",
    "console.log(\"union\",setA.union(setB));\n",
    "console.log(\"Intersection\",setA.intersection(setB))\n",
    "console.log(\"Difference\",setB.difference(setA))\n",
    "console.log(\"difference\",setA.symmetricDifference(setB))"
   ]
  },
  {
   "cell_type": "code",
   "execution_count": 27,
   "metadata": {},
   "outputs": [
    {
     "name": "stdout",
     "output_type": "stream",
     "text": [
      "true\n",
      "false\n",
      "true\n"
     ]
    }
   ],
   "source": [
    "const names1= new Set([\"John\",\"Jane\",\"Alice\",\"Bob\"]);\n",
    "const names2= new Set([\"John\",\"Jane\"]);\n",
    "\n",
    "console.log(names1.isSupersetOf(names2)) // names 1 include everything of a names2 so its a superset so true\n",
    "console.log(names2.isSupersetOf(names1))// false\n",
    "console.log(names2.isSubsetOf(names1)) // true"
   ]
  },
  {
   "cell_type": "code",
   "execution_count": null,
   "metadata": {},
   "outputs": [],
   "source": []
  }
 ],
 "metadata": {
  "kernelspec": {
   "display_name": "Deno",
   "language": "typescript",
   "name": "deno"
  },
  "language_info": {
   "codemirror_mode": "typescript",
   "file_extension": ".ts",
   "mimetype": "text/x.typescript",
   "name": "typescript",
   "nbconvert_exporter": "script",
   "pygments_lexer": "typescript",
   "version": "5.6.2"
  }
 },
 "nbformat": 4,
 "nbformat_minor": 2
}
