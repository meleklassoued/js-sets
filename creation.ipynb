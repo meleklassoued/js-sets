{
 "cells": [
  {
   "cell_type": "code",
   "execution_count": 1,
   "metadata": {},
   "outputs": [
    {
     "name": "stdout",
     "output_type": "stream",
     "text": [
      "Set(0) {}\n"
     ]
    },
    {
     "data": {
      "text/plain": [
       "Set(2) { \u001b[33m1\u001b[39m, { id: \u001b[32m\"1\"\u001b[39m, name: \u001b[32m\"melek\"\u001b[39m } }"
      ]
     },
     "execution_count": 1,
     "metadata": {},
     "output_type": "execute_result"
    },
    {
     "ename": "",
     "evalue": "",
     "output_type": "error",
     "traceback": [
      "\u001b[1;31mThe Kernel crashed while executing code in the current cell or a previous cell. \n",
      "\u001b[1;31mPlease review the code in the cell(s) to identify a possible cause of the failure. \n",
      "\u001b[1;31mClick <a href='https://aka.ms/vscodeJupyterKernelCrash'>here</a> for more info. \n",
      "\u001b[1;31mView Jupyter <a href='command:jupyter.viewOutput'>log</a> for further details."
     ]
    }
   ],
   "source": [
    "const set1 = new Set();\n",
    "console.log(set1)\n",
    "// set is a specific type of array that can only hold unique values\n",
    "set1.add(1);\n",
    "set1.add({id:\"1\",name:\"melek\"});\n"
   ]
  },
  {
   "cell_type": "code",
   "execution_count": 2,
   "metadata": {},
   "outputs": [
    {
     "name": "stdout",
     "output_type": "stream",
     "text": [
      "Set(6) { 1, 2, 3, 4, 5, 600 }\n"
     ]
    }
   ],
   "source": [
    "const setWithArray= new Set([1,2,3,2,4,5,5,600]);\n",
    "console.log(setWithArray)\n",
    "// here the output will show us only the unique values \n",
    "// ! Note: Sets preserves the insertion order "
   ]
  },
  {
   "cell_type": "code",
   "execution_count": null,
   "metadata": {},
   "outputs": [],
   "source": []
  }
 ],
 "metadata": {
  "kernelspec": {
   "display_name": "Deno",
   "language": "typescript",
   "name": "deno"
  },
  "language_info": {
   "codemirror_mode": "typescript",
   "file_extension": ".ts",
   "mimetype": "text/x.typescript",
   "name": "typescript",
   "nbconvert_exporter": "script",
   "pygments_lexer": "typescript",
   "version": "5.6.2"
  }
 },
 "nbformat": 4,
 "nbformat_minor": 2
}
